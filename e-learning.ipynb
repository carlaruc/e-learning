{
 "cells": [
  {
   "cell_type": "markdown",
   "id": "06633ed5",
   "metadata": {},
   "source": [
    "# e-Learning company\n",
    "\n",
    "We are working for a company that provides online programming courses. Most of the courses are on web and mobile development, but there are also courses about data science, game development etc.\n",
    "\n",
    "We want to promote our product and invest some money on marketing. As such, we want to find which are the two best markets to advertise our product in. \n",
    "\n",
    "Running a survey for different markets would be costly, instead we are going to look for existing data. [freeCodeCamps's 2017 New Coder Survey data](https://github.com/freeCodeCamp/2017-new-coder-survey) seems to be a good candidate for our purpouse. [freeCodeCamp](https://www.freecodecamp.org/) is a free e-leraning platform that offers course on web development. Because theyy have [a popular Medium publication](https://medium.freecodecamp.org/), they were able to attract people with different interests to the survey, which is ideal for our use case."
   ]
  },
  {
   "cell_type": "code",
   "execution_count": 1,
   "id": "4656f24f",
   "metadata": {},
   "outputs": [
    {
     "name": "stdout",
     "output_type": "stream",
     "text": [
      "(18175, 136)\n"
     ]
    }
   ],
   "source": [
    "import pandas as pd\n",
    "fcc= pd.read_csv(\"2017-fCC-New-Coders-Survey-Data.csv\", low_memory = False)\n",
    "print(fcc.shape)\n",
    "fcc.head()\n",
    "pd.options.mode.chained_assignment = None  # default='warn'"
   ]
  },
  {
   "cell_type": "markdown",
   "id": "e2be1d1d",
   "metadata": {},
   "source": [
    "## Sample Representativity\n",
    "\n",
    "As we mentioned during the introduction the company offers courses in different areas. \n",
    "\n",
    "Today we are mainly interested in finding information about the new coders that are interested in the areas we teach. We want to know where they are located, which ones are the locations that have the largest amount of coders, and how much money they are willing to spend on learning.\n",
    "\n",
    "However, before we start with the analysis we need to determine if the sample data is representative of the targeted population, and if it contains the information we need for our analysis.\n",
    "\n",
    "The `JobRoleInterest` column shows the role each participant is interested in working. Let's see what kind of roles they mention."
   ]
  },
  {
   "cell_type": "code",
   "execution_count": 2,
   "id": "a8fe0934",
   "metadata": {},
   "outputs": [
    {
     "data": {
      "text/plain": [
       "Full-Stack Web Developer                                                                                                                                                                                                                                                                    11.770595\n",
       "  Front-End Web Developer                                                                                                                                                                                                                                                                    6.435927\n",
       "  Data Scientist                                                                                                                                                                                                                                                                             2.173913\n",
       "Back-End Web Developer                                                                                                                                                                                                                                                                       2.030892\n",
       "  Mobile Developer                                                                                                                                                                                                                                                                           1.673341\n",
       "                                                                                                                                                                                                                                                                                              ...    \n",
       "  Front-End Web Developer,   DevOps / SysAdmin,   Mobile Developer, Full-Stack Web Developer                                                                                                                                                                                                 0.014302\n",
       "Back-End Web Developer,   Front-End Web Developer, Data Engineer, Full-Stack Web Developer,   Mobile Developer                                                                                                                                                                               0.014302\n",
       "Back-End Web Developer,   User Experience Designer,   Mobile Developer, Game Developer,   Front-End Web Developer, Full-Stack Web Developer                                                                                                                                                  0.014302\n",
       "  Front-End Web Developer,   Mobile Developer, Back-End Web Developer, Full-Stack Web Developer, Data Engineer                                                                                                                                                                               0.014302\n",
       "  DevOps / SysAdmin,   Mobile Developer,   Product Manager, Game Developer,   Front-End Web Developer, Data Engineer,   Quality Assurance Engineer,   User Experience Designer, Back-End Web Developer,   Data Scientist, Full-Stack Web Developer, Information Security, IT specialist      0.014302\n",
       "Name: JobRoleInterest, Length: 3213, dtype: float64"
      ]
     },
     "execution_count": 2,
     "metadata": {},
     "output_type": "execute_result"
    }
   ],
   "source": [
    "fcc[\"JobRoleInterest\"].value_counts(normalize=True)*100"
   ]
  },
  {
   "cell_type": "markdown",
   "id": "75bcf5fc",
   "metadata": {},
   "source": [
    "It looks like a lot of people are interested in web development (full-stack, front-end and back-end).\n",
    "A few people are interested in mobile development and others are interested in data science and other areas.\n",
    "\n",
    "It is also interesting to mention that many respondents are interested in more than one subject. It'd be interesting to know how many people are interested in a single subject vs how many have mixed interests."
   ]
  },
  {
   "cell_type": "code",
   "execution_count": 3,
   "id": "73385eca",
   "metadata": {},
   "outputs": [
    {
     "data": {
      "text/plain": [
       "1                           [Full-Stack Web Developer]\n",
       "2    [  Front-End Web Developer,  Back-End Web Deve...\n",
       "3    [  Front-End Web Developer,  Full-Stack Web De...\n",
       "4    [Full-Stack Web Developer,  Information Securi...\n",
       "6                           [Full-Stack Web Developer]\n",
       "Name: JobRoleInterest, dtype: object"
      ]
     },
     "execution_count": 3,
     "metadata": {},
     "output_type": "execute_result"
    }
   ],
   "source": [
    "#Drop null values\n",
    "interests_clean = fcc[\"JobRoleInterest\"].dropna()\n",
    "#Split the strings in the \"JobRoleInterest\" column\n",
    "split_interests = interests_clean.str.split(\",\")\n",
    "split_interests.head()"
   ]
  },
  {
   "cell_type": "code",
   "execution_count": 4,
   "id": "abb293cc",
   "metadata": {},
   "outputs": [
    {
     "data": {
      "text/plain": [
       "1     31.650458\n",
       "3     15.889588\n",
       "4     15.217391\n",
       "5     12.042334\n",
       "2     10.883867\n",
       "6      6.721968\n",
       "7      3.861556\n",
       "8      1.759153\n",
       "9      0.986842\n",
       "10     0.471968\n",
       "12     0.300343\n",
       "11     0.185927\n",
       "13     0.028604\n",
       "Name: JobRoleInterest, dtype: float64"
      ]
     },
     "execution_count": 4,
     "metadata": {},
     "output_type": "execute_result"
    }
   ],
   "source": [
    "# Frequency table to see the number of roles selected\n",
    "n_roles = split_interests.apply(lambda x: len(x))\n",
    "n_roles.value_counts(normalize = True)*100"
   ]
  },
  {
   "cell_type": "markdown",
   "id": "7b5fe361",
   "metadata": {},
   "source": [
    "Only 31.65% of the people have narrowed down their interests to one role. The rest have selected a wider variety of roles. Since the company offers more than one course, that might not actually be a bad thing.\n",
    "\n",
    "Since the company focuses on web and mobile development, let's look at how many respondents are interested in those areas."
   ]
  },
  {
   "cell_type": "code",
   "execution_count": 5,
   "id": "45963453",
   "metadata": {},
   "outputs": [
    {
     "name": "stdout",
     "output_type": "stream",
     "text": [
      "True     86.241419\n",
      "False    13.758581\n",
      "Name: JobRoleInterest, dtype: float64\n"
     ]
    },
    {
     "data": {
      "image/png": "[encoded data removed]",
      "text/plain": [
       "<Figure size 640x480 with 1 Axes>"
      ]
     },
     "metadata": {},
     "output_type": "display_data"
    }
   ],
   "source": [
    "#Frequency table\n",
    "web_or_mobile = interests_clean.str.contains(\"Web Developer|Mobile Developer\")\n",
    "freq_table = web_or_mobile.value_counts(normalize=True)*100\n",
    "print(freq_table)\n",
    "\n",
    "#Graph\n",
    "%matplotlib inline\n",
    "import matplotlib.pyplot as plt\n",
    "\n",
    "plt.style.use(\"Solarize_Light2\")\n",
    "\n",
    "freq_table.plot.bar(color = [\"skyblue\",\"salmon\"])\n",
    "plt.title(\"Most Participants are Interested in \\nMobile and Web Development\", y=1.08)\n",
    "plt.ylabel(\"Percentage\")\n",
    "plt.xticks([0,1], [\"Web or mobile dev.\",\"Other\"], rotation = 0)\n",
    "plt.ylim([0,100])\n",
    "plt.show()\n",
    "\n"
   ]
  },
  {
   "cell_type": "markdown",
   "id": "cf492b5c",
   "metadata": {},
   "source": [
    "As we can see most of the participants (around 86% of them) are interested in either web or mobile development.\n",
    "These numbers give us a good reason to think that the sample of the survey it is a good representation of our population of interest.\n",
    "\n",
    "So what are the best markets for us to invest in advertising?\n",
    "- Where are the new coders located?\n",
    "- What are the locations with the largest amount of new coders?\n",
    "- How much money are new coders willing to spend on learning?"
   ]
  },
  {
   "cell_type": "markdown",
   "id": "bfc3c357",
   "metadata": {},
   "source": [
    "## New Coders' Location and Density\n",
    "\n",
    "Let's start by looking at where are these new coders located, and how many of them are in each location. This should give us a good idea as to which are good markets to advertise on.\n",
    "\n",
    "The dataset provides the location at a country level in the `CountryLive`column, which is what we are going to use to determine which are the best two countries to advertise in.\n",
    "\n",
    "Let's check the frequency distribution for the countries the new coders are living in, among those that showed interest in either web or mobile development.\n"
   ]
  },
  {
   "cell_type": "code",
   "execution_count": 6,
   "id": "b97e8772",
   "metadata": {},
   "outputs": [],
   "source": [
    "#isolate those that showed interest in web and mobile development\n",
    "fcc_not_null = fcc[fcc[\"JobRoleInterest\"].notnull()].copy()\n",
    "fcc_good = fcc_not_null[fcc_not_null[\"JobRoleInterest\"].str.contains(\"Web Developer| Mobile Developer\")]"
   ]
  },
  {
   "cell_type": "code",
   "execution_count": 7,
   "id": "49b4ed0f",
   "metadata": {},
   "outputs": [
    {
     "data": {
      "text/html": [
       "<div>\n",
       "<style scoped>\n",
       "    .dataframe tbody tr th:only-of-type {\n",
       "        vertical-align: middle;\n",
       "    }\n",
       "\n",
       "    .dataframe tbody tr th {\n",
       "        vertical-align: top;\n",
       "    }\n",
       "\n",
       "    .dataframe thead th {\n",
       "        text-align: right;\n",
       "    }\n",
       "</style>\n",
       "<table border=\"1\" class=\"dataframe\">\n",
       "  <thead>\n",
       "    <tr style=\"text-align: right;\">\n",
       "      <th></th>\n",
       "      <th>Absolute Frequency</th>\n",
       "      <th>Percentage</th>\n",
       "    </tr>\n",
       "  </thead>\n",
       "  <tbody>\n",
       "    <tr>\n",
       "      <th>United States of America</th>\n",
       "      <td>2676</td>\n",
       "      <td>45.340563</td>\n",
       "    </tr>\n",
       "    <tr>\n",
       "      <th>India</th>\n",
       "      <td>443</td>\n",
       "      <td>7.505930</td>\n",
       "    </tr>\n",
       "    <tr>\n",
       "      <th>United Kingdom</th>\n",
       "      <td>281</td>\n",
       "      <td>4.761098</td>\n",
       "    </tr>\n",
       "    <tr>\n",
       "      <th>Canada</th>\n",
       "      <td>221</td>\n",
       "      <td>3.744493</td>\n",
       "    </tr>\n",
       "    <tr>\n",
       "      <th>Poland</th>\n",
       "      <td>121</td>\n",
       "      <td>2.050152</td>\n",
       "    </tr>\n",
       "    <tr>\n",
       "      <th>...</th>\n",
       "      <td>...</td>\n",
       "      <td>...</td>\n",
       "    </tr>\n",
       "    <tr>\n",
       "      <th>Qatar</th>\n",
       "      <td>1</td>\n",
       "      <td>0.016943</td>\n",
       "    </tr>\n",
       "    <tr>\n",
       "      <th>Aruba</th>\n",
       "      <td>1</td>\n",
       "      <td>0.016943</td>\n",
       "    </tr>\n",
       "    <tr>\n",
       "      <th>Trinidad &amp; Tobago</th>\n",
       "      <td>1</td>\n",
       "      <td>0.016943</td>\n",
       "    </tr>\n",
       "    <tr>\n",
       "      <th>Gibraltar</th>\n",
       "      <td>1</td>\n",
       "      <td>0.016943</td>\n",
       "    </tr>\n",
       "    <tr>\n",
       "      <th>Gambia</th>\n",
       "      <td>1</td>\n",
       "      <td>0.016943</td>\n",
       "    </tr>\n",
       "  </tbody>\n",
       "</table>\n",
       "<p>135 rows × 2 columns</p>\n",
       "</div>"
      ],
      "text/plain": [
       "                          Absolute Frequency  Percentage\n",
       "United States of America                2676   45.340563\n",
       "India                                    443    7.505930\n",
       "United Kingdom                           281    4.761098\n",
       "Canada                                   221    3.744493\n",
       "Poland                                   121    2.050152\n",
       "...                                      ...         ...\n",
       "Qatar                                      1    0.016943\n",
       "Aruba                                      1    0.016943\n",
       "Trinidad & Tobago                          1    0.016943\n",
       "Gibraltar                                  1    0.016943\n",
       "Gambia                                     1    0.016943\n",
       "\n",
       "[135 rows x 2 columns]"
      ]
     },
     "execution_count": 7,
     "metadata": {},
     "output_type": "execute_result"
    }
   ],
   "source": [
    "#frequency tables with absolute and relative frequencies\n",
    "absolute = fcc_good[\"CountryLive\"].value_counts()\n",
    "relative = fcc_good[\"CountryLive\"].value_counts(normalize = True)*100\n",
    "\n",
    "#display the frequency tables\n",
    "pd.DataFrame(data={\"Absolute Frequency\":absolute, \"Percentage\":relative})"
   ]
  },
  {
   "cell_type": "markdown",
   "id": "4758df84",
   "metadata": {},
   "source": [
    "From the results we can see that the US is a great candidate with over 45.3% of the potential customers being located there. The second country with more density is India, but it only has a 7.5% which is not that far away from the UK (4.8%) and Canada (3.7%).\n",
    "\n",
    "This is useful. Now we need to determine how much money people are willing to spend in each of the markets, since spending money on advertising in countries where people prefer to get the education for free, is not going to be profitable."
   ]
  },
  {
   "cell_type": "markdown",
   "id": "7b59262d",
   "metadata": {},
   "source": [
    "## Spending Money for Learning\n",
    "\n",
    "The column named \"MoneyForLearning\" describes the amoung of money participants have spendt from they moment they started coding until the time of the survey in USD.\n",
    "\n",
    "The company sells subscriptions at $59/month, meaning that it is important for us to understand how much money each student spends per month. \n",
    "\n",
    "We will be narrowing down the analysis to the US, India, the UK and Canada because these are the countries with the highest absolute frequencies in our sample, which means we have a good amount of data for each of them, and because our courses are written in English which is an offical language in all of these countries.\n",
    "\n",
    "Let's start by creating a new column that tells us how much money each student has spent per month so far. To do that we will work with both the `MoneyForLearning\" and the ^MonthsProgramming`columns.\n",
    "\n",
    "We know that some students have just started learning to code, so their answer is 0 months. We can't divide by zero and have a meaningful result, so instead we are just going to substitute the 0 with a 1 in the `MonthsProgramming` column."
   ]
  },
  {
   "cell_type": "code",
   "execution_count": 8,
   "id": "54845d79",
   "metadata": {},
   "outputs": [
    {
     "data": {
      "text/plain": [
       "558"
      ]
     },
     "execution_count": 8,
     "metadata": {},
     "output_type": "execute_result"
    }
   ],
   "source": [
    "#Replace 0s with 1s to avoid the division by 0\n",
    "fcc_good[\"MonthsProgramming\"].replace(0,1, inplace = True)\n",
    "\n",
    "#New column for the amount of money spent per month\n",
    "fcc_good[\"MoneyPerMonth\"] = fcc_good[\"MoneyForLearning\"]/fcc_good[\"MonthsProgramming\"]\n",
    "fcc_good[\"MoneyPerMonth\"].isnull().sum()"
   ]
  },
  {
   "cell_type": "markdown",
   "id": "092e468e",
   "metadata": {},
   "source": [
    "We are only going to keep those rows that don't have null values for the `MoneyPerMonth` and `CountryLive` columns."
   ]
  },
  {
   "cell_type": "code",
   "execution_count": 9,
   "id": "64f98266",
   "metadata": {},
   "outputs": [
    {
     "data": {
      "text/plain": [
       "United States of America    2516\n",
       "India                        393\n",
       "United Kingdom               247\n",
       "Canada                       203\n",
       "Poland                       114\n",
       "Name: CountryLive, dtype: int64"
      ]
     },
     "execution_count": 9,
     "metadata": {},
     "output_type": "execute_result"
    }
   ],
   "source": [
    "fcc_good= fcc_good[fcc_good[\"MoneyPerMonth\"].notnull()]\n",
    "\n",
    "#Let's check if we still have enough data\n",
    "fcc_good=fcc_good[fcc_good[\"CountryLive\"].notnull()]\n",
    "fcc_good[\"CountryLive\"].value_counts().head()"
   ]
  },
  {
   "cell_type": "markdown",
   "id": "b996227e",
   "metadata": {},
   "source": [
    "This should be enough, let's see what's the average spent per student per month is in each country"
   ]
  },
  {
   "cell_type": "code",
   "execution_count": 10,
   "id": "b1728574",
   "metadata": {},
   "outputs": [
    {
     "data": {
      "text/plain": [
       "CountryLive\n",
       "United States of America    249.521492\n",
       "India                       146.663700\n",
       "United Kingdom               49.117435\n",
       "Canada                      129.170946\n",
       "Name: MoneyPerMonth, dtype: float64"
      ]
     },
     "execution_count": 10,
     "metadata": {},
     "output_type": "execute_result"
    }
   ],
   "source": [
    "countries_mean= fcc_good.groupby(\"CountryLive\").mean(numeric_only = True)\n",
    "countries_mean[\"MoneyPerMonth\"][[\"United States of America\", \"India\", \"United Kingdom\", \"Canada\"]]"
   ]
  },
  {
   "cell_type": "markdown",
   "id": "f0af5531",
   "metadata": {},
   "source": [
    "It is a bit surprising that the UK and Canada are both below the average spent of India if we take into account the [GDP per capita of each country](https://en.wikipedia.org/wiki/List_of_countries_by_GDP_(PPP)_per_capita#Lists_of_countries_and_dependencies).\n",
    "\n",
    "It could be the case that the data we have for the UK and Canada is not representative enough, or that we have some outliers making the mean for India larger, or too low for the UK and Canada. Or it could simply be that the results are correct.\n",
    "\n",
    "Let's check"
   ]
  },
  {
   "cell_type": "markdown",
   "id": "42a2e2b2",
   "metadata": {},
   "source": [
    "## Checking for Outliers\n",
    "\n",
    "Let's use boxplots to look for potential outliers."
   ]
  },
  {
   "cell_type": "code",
   "execution_count": 11,
   "id": "16861788",
   "metadata": {},
   "outputs": [
    {
     "data": {
      "image/png": "[encoded data removed]",
      "text/plain": [
       "<Figure size 640x480 with 1 Axes>"
      ]
     },
     "metadata": {},
     "output_type": "display_data"
    }
   ],
   "source": [
    "# Isolate the countries of interest\n",
    "top_countries = fcc_good[fcc_good[\"CountryLive\"].str.contains(\"United States of America|India|United Kingdom|Canada\")]\n",
    "\n",
    "#Box plots to visualise the distributions\n",
    "import seaborn as sns\n",
    "\n",
    "sns.boxplot(y=\"MoneyPerMonth\", x=\"CountryLive\", data = top_countries)\n",
    "plt.title(\"Money Spent per Month per Country\", fontsize = 16)\n",
    "plt.xlabel(\"Country\")\n",
    "plt.ylabel(\"Money per Month(USD)\")\n",
    "plt.xticks(range(4), [\"US\", \"UK\", \"India\", \"Cananda\"])\n",
    "plt.show()"
   ]
  },
  {
   "cell_type": "markdown",
   "id": "e6443013",
   "metadata": {},
   "source": [
    "It looks like the US has some extreme outliers. Let's inspect those."
   ]
  },
  {
   "cell_type": "code",
   "execution_count": 13,
   "id": "fb9be86c",
   "metadata": {},
   "outputs": [
    {
     "data": {
      "text/html": [
       "<div>\n",
       "<style scoped>\n",
       "    .dataframe tbody tr th:only-of-type {\n",
       "        vertical-align: middle;\n",
       "    }\n",
       "\n",
       "    .dataframe tbody tr th {\n",
       "        vertical-align: top;\n",
       "    }\n",
       "\n",
       "    .dataframe thead th {\n",
       "        text-align: right;\n",
       "    }\n",
       "</style>\n",
       "<table border=\"1\" class=\"dataframe\">\n",
       "  <thead>\n",
       "    <tr style=\"text-align: right;\">\n",
       "      <th></th>\n",
       "      <th>Age</th>\n",
       "      <th>AttendedBootcamp</th>\n",
       "      <th>BootcampFinish</th>\n",
       "      <th>BootcampLoanYesNo</th>\n",
       "      <th>BootcampName</th>\n",
       "      <th>BootcampRecommend</th>\n",
       "      <th>ChildrenNumber</th>\n",
       "      <th>CityPopulation</th>\n",
       "      <th>CodeEventConferences</th>\n",
       "      <th>CodeEventDjangoGirls</th>\n",
       "      <th>...</th>\n",
       "      <th>YouTubeFunFunFunction</th>\n",
       "      <th>YouTubeGoogleDev</th>\n",
       "      <th>YouTubeLearnCode</th>\n",
       "      <th>YouTubeLevelUpTuts</th>\n",
       "      <th>YouTubeMIT</th>\n",
       "      <th>YouTubeMozillaHacks</th>\n",
       "      <th>YouTubeOther</th>\n",
       "      <th>YouTubeSimplilearn</th>\n",
       "      <th>YouTubeTheNewBoston</th>\n",
       "      <th>MoneyPerMonth</th>\n",
       "    </tr>\n",
       "  </thead>\n",
       "  <tbody>\n",
       "    <tr>\n",
       "      <th>2478</th>\n",
       "      <td>38.0</td>\n",
       "      <td>1.0</td>\n",
       "      <td>0.0</td>\n",
       "      <td>1.0</td>\n",
       "      <td>NaN</td>\n",
       "      <td>1.0</td>\n",
       "      <td>NaN</td>\n",
       "      <td>between 100,000 and 1 million</td>\n",
       "      <td>NaN</td>\n",
       "      <td>NaN</td>\n",
       "      <td>...</td>\n",
       "      <td>NaN</td>\n",
       "      <td>NaN</td>\n",
       "      <td>NaN</td>\n",
       "      <td>NaN</td>\n",
       "      <td>NaN</td>\n",
       "      <td>NaN</td>\n",
       "      <td>NaN</td>\n",
       "      <td>NaN</td>\n",
       "      <td>NaN</td>\n",
       "      <td>50000.0</td>\n",
       "    </tr>\n",
       "    <tr>\n",
       "      <th>14024</th>\n",
       "      <td>45.0</td>\n",
       "      <td>0.0</td>\n",
       "      <td>NaN</td>\n",
       "      <td>NaN</td>\n",
       "      <td>NaN</td>\n",
       "      <td>NaN</td>\n",
       "      <td>NaN</td>\n",
       "      <td>between 100,000 and 1 million</td>\n",
       "      <td>NaN</td>\n",
       "      <td>NaN</td>\n",
       "      <td>...</td>\n",
       "      <td>NaN</td>\n",
       "      <td>NaN</td>\n",
       "      <td>NaN</td>\n",
       "      <td>NaN</td>\n",
       "      <td>NaN</td>\n",
       "      <td>NaN</td>\n",
       "      <td>None</td>\n",
       "      <td>NaN</td>\n",
       "      <td>NaN</td>\n",
       "      <td>80000.0</td>\n",
       "    </tr>\n",
       "  </tbody>\n",
       "</table>\n",
       "<p>2 rows × 137 columns</p>\n",
       "</div>"
      ],
      "text/plain": [
       "        Age  AttendedBootcamp  BootcampFinish  BootcampLoanYesNo BootcampName  \\\n",
       "2478   38.0               1.0             0.0                1.0          NaN   \n",
       "14024  45.0               0.0             NaN                NaN          NaN   \n",
       "\n",
       "       BootcampRecommend  ChildrenNumber                 CityPopulation  \\\n",
       "2478                 1.0             NaN  between 100,000 and 1 million   \n",
       "14024                NaN             NaN  between 100,000 and 1 million   \n",
       "\n",
       "       CodeEventConferences  CodeEventDjangoGirls  ...  YouTubeFunFunFunction  \\\n",
       "2478                    NaN                   NaN  ...                    NaN   \n",
       "14024                   NaN                   NaN  ...                    NaN   \n",
       "\n",
       "       YouTubeGoogleDev  YouTubeLearnCode  YouTubeLevelUpTuts  YouTubeMIT  \\\n",
       "2478                NaN               NaN                 NaN         NaN   \n",
       "14024               NaN               NaN                 NaN         NaN   \n",
       "\n",
       "       YouTubeMozillaHacks  YouTubeOther YouTubeSimplilearn  \\\n",
       "2478                   NaN           NaN                NaN   \n",
       "14024                  NaN          None                NaN   \n",
       "\n",
       "       YouTubeTheNewBoston  MoneyPerMonth  \n",
       "2478                   NaN        50000.0  \n",
       "14024                  NaN        80000.0  \n",
       "\n",
       "[2 rows x 137 columns]"
      ]
     },
     "execution_count": 13,
     "metadata": {},
     "output_type": "execute_result"
    }
   ],
   "source": [
    "us_outliers = top_countries[(top_countries[\"CountryLive\"] == \"United States of America\") & (top_countries[\"MoneyPerMonth\"]>20000)]\n",
    "us_outliers"
   ]
  },
  {
   "cell_type": "markdown",
   "id": "79a39b5b",
   "metadata": {},
   "source": [
    "It's not imporssible that there are people spending 50K or mor for learning per month, but it is very unlikely, so we are going to remove anything that is above 20K to make the boxplot a bit more readable."
   ]
  },
  {
   "cell_type": "code",
   "execution_count": 16,
   "id": "c09c8724",
   "metadata": {},
   "outputs": [],
   "source": [
    "#Isolate the participants that spent less than 20K per month\n",
    "fcc_good= fcc_good[fcc_good[\"MoneyPerMonth\"]<20000]"
   ]
  },
  {
   "cell_type": "code",
   "execution_count": 18,
   "id": "f7300080",
   "metadata": {},
   "outputs": [
    {
     "name": "stdout",
     "output_type": "stream",
     "text": [
      "CountryLive\n",
      "United States of America    198.009576\n",
      "India                       146.663700\n",
      "United Kingdom               49.117435\n",
      "Canada                      129.170946\n",
      "Name: MoneyPerMonth, dtype: float64\n"
     ]
    }
   ],
   "source": [
    "#Let's build the boxplot again\n",
    "countries_mean = fcc_good.groupby(\"CountryLive\").mean(numeric_only=True)\n",
    "countries_mean_values = countries_mean[\"MoneyPerMonth\"][[\"United States of America\", \"India\", \"United Kingdom\", \"Canada\"]]\n",
    "print(countries_mean_values)"
   ]
  },
  {
   "cell_type": "code",
   "execution_count": 20,
   "id": "b8fe1de2",
   "metadata": {},
   "outputs": [
    {
     "data": {
      "image/png": "[encoded data removed]",
      "text/plain": [
       "<Figure size 640x480 with 1 Axes>"
      ]
     },
     "metadata": {},
     "output_type": "display_data"
    }
   ],
   "source": [
    "#Let's isolate again the countires of interest\n",
    "\n",
    "top_countries = fcc_good[fcc_good[\"CountryLive\"].str.contains(\"United States of America|India|United Kingdom|Canada\")]\n",
    "\n",
    "sns.boxplot(y=\"MoneyPerMonth\", x=\"CountryLive\", data=top_countries)\n",
    "plt.title(\"Money Spent per Month per Country (USD)\")\n",
    "plt.xlabel(\"Country\")\n",
    "plt.ylabel(\"Money Spent per Month\")\n",
    "plt.xticks(range(4), [\"US\", \"UK\", \"India\", \"Canada\"])\n",
    "plt.show()"
   ]
  },
  {
   "cell_type": "markdown",
   "id": "5ac10b7a",
   "metadata": {},
   "source": [
    "We can now clearly see that there are some outliers in India with over $2500, but it is still not clear if that's good data or not. It could be that these people attended several bootcamps which are pricey. Let's see what the data points tell us."
   ]
  },
  {
   "cell_type": "code",
   "execution_count": 22,
   "id": "f6d5e381",
   "metadata": {},
   "outputs": [
    {
     "data": {
      "text/html": [
       "<div>\n",
       "<style scoped>\n",
       "    .dataframe tbody tr th:only-of-type {\n",
       "        vertical-align: middle;\n",
       "    }\n",
       "\n",
       "    .dataframe tbody tr th {\n",
       "        vertical-align: top;\n",
       "    }\n",
       "\n",
       "    .dataframe thead th {\n",
       "        text-align: right;\n",
       "    }\n",
       "</style>\n",
       "<table border=\"1\" class=\"dataframe\">\n",
       "  <thead>\n",
       "    <tr style=\"text-align: right;\">\n",
       "      <th></th>\n",
       "      <th>Age</th>\n",
       "      <th>AttendedBootcamp</th>\n",
       "      <th>BootcampFinish</th>\n",
       "      <th>BootcampLoanYesNo</th>\n",
       "      <th>BootcampName</th>\n",
       "      <th>BootcampRecommend</th>\n",
       "      <th>ChildrenNumber</th>\n",
       "      <th>CityPopulation</th>\n",
       "      <th>CodeEventConferences</th>\n",
       "      <th>CodeEventDjangoGirls</th>\n",
       "      <th>...</th>\n",
       "      <th>YouTubeFunFunFunction</th>\n",
       "      <th>YouTubeGoogleDev</th>\n",
       "      <th>YouTubeLearnCode</th>\n",
       "      <th>YouTubeLevelUpTuts</th>\n",
       "      <th>YouTubeMIT</th>\n",
       "      <th>YouTubeMozillaHacks</th>\n",
       "      <th>YouTubeOther</th>\n",
       "      <th>YouTubeSimplilearn</th>\n",
       "      <th>YouTubeTheNewBoston</th>\n",
       "      <th>MoneyPerMonth</th>\n",
       "    </tr>\n",
       "  </thead>\n",
       "  <tbody>\n",
       "    <tr>\n",
       "      <th>1728</th>\n",
       "      <td>24.0</td>\n",
       "      <td>0.0</td>\n",
       "      <td>NaN</td>\n",
       "      <td>NaN</td>\n",
       "      <td>NaN</td>\n",
       "      <td>NaN</td>\n",
       "      <td>NaN</td>\n",
       "      <td>between 100,000 and 1 million</td>\n",
       "      <td>NaN</td>\n",
       "      <td>NaN</td>\n",
       "      <td>...</td>\n",
       "      <td>NaN</td>\n",
       "      <td>NaN</td>\n",
       "      <td>NaN</td>\n",
       "      <td>NaN</td>\n",
       "      <td>NaN</td>\n",
       "      <td>NaN</td>\n",
       "      <td>NaN</td>\n",
       "      <td>NaN</td>\n",
       "      <td>NaN</td>\n",
       "      <td>5000.000000</td>\n",
       "    </tr>\n",
       "    <tr>\n",
       "      <th>1755</th>\n",
       "      <td>20.0</td>\n",
       "      <td>0.0</td>\n",
       "      <td>NaN</td>\n",
       "      <td>NaN</td>\n",
       "      <td>NaN</td>\n",
       "      <td>NaN</td>\n",
       "      <td>NaN</td>\n",
       "      <td>more than 1 million</td>\n",
       "      <td>NaN</td>\n",
       "      <td>NaN</td>\n",
       "      <td>...</td>\n",
       "      <td>NaN</td>\n",
       "      <td>NaN</td>\n",
       "      <td>1.0</td>\n",
       "      <td>NaN</td>\n",
       "      <td>1.0</td>\n",
       "      <td>NaN</td>\n",
       "      <td>NaN</td>\n",
       "      <td>NaN</td>\n",
       "      <td>NaN</td>\n",
       "      <td>3333.333333</td>\n",
       "    </tr>\n",
       "    <tr>\n",
       "      <th>7989</th>\n",
       "      <td>28.0</td>\n",
       "      <td>0.0</td>\n",
       "      <td>NaN</td>\n",
       "      <td>NaN</td>\n",
       "      <td>NaN</td>\n",
       "      <td>NaN</td>\n",
       "      <td>NaN</td>\n",
       "      <td>between 100,000 and 1 million</td>\n",
       "      <td>1.0</td>\n",
       "      <td>NaN</td>\n",
       "      <td>...</td>\n",
       "      <td>NaN</td>\n",
       "      <td>NaN</td>\n",
       "      <td>NaN</td>\n",
       "      <td>NaN</td>\n",
       "      <td>NaN</td>\n",
       "      <td>NaN</td>\n",
       "      <td>NaN</td>\n",
       "      <td>NaN</td>\n",
       "      <td>NaN</td>\n",
       "      <td>5000.000000</td>\n",
       "    </tr>\n",
       "    <tr>\n",
       "      <th>8126</th>\n",
       "      <td>22.0</td>\n",
       "      <td>0.0</td>\n",
       "      <td>NaN</td>\n",
       "      <td>NaN</td>\n",
       "      <td>NaN</td>\n",
       "      <td>NaN</td>\n",
       "      <td>NaN</td>\n",
       "      <td>more than 1 million</td>\n",
       "      <td>NaN</td>\n",
       "      <td>NaN</td>\n",
       "      <td>...</td>\n",
       "      <td>NaN</td>\n",
       "      <td>1.0</td>\n",
       "      <td>NaN</td>\n",
       "      <td>NaN</td>\n",
       "      <td>1.0</td>\n",
       "      <td>NaN</td>\n",
       "      <td>NaN</td>\n",
       "      <td>NaN</td>\n",
       "      <td>1.0</td>\n",
       "      <td>5000.000000</td>\n",
       "    </tr>\n",
       "    <tr>\n",
       "      <th>13398</th>\n",
       "      <td>19.0</td>\n",
       "      <td>0.0</td>\n",
       "      <td>NaN</td>\n",
       "      <td>NaN</td>\n",
       "      <td>NaN</td>\n",
       "      <td>NaN</td>\n",
       "      <td>NaN</td>\n",
       "      <td>more than 1 million</td>\n",
       "      <td>NaN</td>\n",
       "      <td>NaN</td>\n",
       "      <td>...</td>\n",
       "      <td>NaN</td>\n",
       "      <td>NaN</td>\n",
       "      <td>NaN</td>\n",
       "      <td>NaN</td>\n",
       "      <td>NaN</td>\n",
       "      <td>NaN</td>\n",
       "      <td>NaN</td>\n",
       "      <td>NaN</td>\n",
       "      <td>NaN</td>\n",
       "      <td>10000.000000</td>\n",
       "    </tr>\n",
       "    <tr>\n",
       "      <th>15587</th>\n",
       "      <td>27.0</td>\n",
       "      <td>0.0</td>\n",
       "      <td>NaN</td>\n",
       "      <td>NaN</td>\n",
       "      <td>NaN</td>\n",
       "      <td>NaN</td>\n",
       "      <td>NaN</td>\n",
       "      <td>more than 1 million</td>\n",
       "      <td>NaN</td>\n",
       "      <td>NaN</td>\n",
       "      <td>...</td>\n",
       "      <td>NaN</td>\n",
       "      <td>1.0</td>\n",
       "      <td>1.0</td>\n",
       "      <td>NaN</td>\n",
       "      <td>1.0</td>\n",
       "      <td>NaN</td>\n",
       "      <td>NaN</td>\n",
       "      <td>NaN</td>\n",
       "      <td>NaN</td>\n",
       "      <td>4166.666667</td>\n",
       "    </tr>\n",
       "  </tbody>\n",
       "</table>\n",
       "<p>6 rows × 137 columns</p>\n",
       "</div>"
      ],
      "text/plain": [
       "        Age  AttendedBootcamp  BootcampFinish  BootcampLoanYesNo BootcampName  \\\n",
       "1728   24.0               0.0             NaN                NaN          NaN   \n",
       "1755   20.0               0.0             NaN                NaN          NaN   \n",
       "7989   28.0               0.0             NaN                NaN          NaN   \n",
       "8126   22.0               0.0             NaN                NaN          NaN   \n",
       "13398  19.0               0.0             NaN                NaN          NaN   \n",
       "15587  27.0               0.0             NaN                NaN          NaN   \n",
       "\n",
       "       BootcampRecommend  ChildrenNumber                 CityPopulation  \\\n",
       "1728                 NaN             NaN  between 100,000 and 1 million   \n",
       "1755                 NaN             NaN            more than 1 million   \n",
       "7989                 NaN             NaN  between 100,000 and 1 million   \n",
       "8126                 NaN             NaN            more than 1 million   \n",
       "13398                NaN             NaN            more than 1 million   \n",
       "15587                NaN             NaN            more than 1 million   \n",
       "\n",
       "       CodeEventConferences  CodeEventDjangoGirls  ...  YouTubeFunFunFunction  \\\n",
       "1728                    NaN                   NaN  ...                    NaN   \n",
       "1755                    NaN                   NaN  ...                    NaN   \n",
       "7989                    1.0                   NaN  ...                    NaN   \n",
       "8126                    NaN                   NaN  ...                    NaN   \n",
       "13398                   NaN                   NaN  ...                    NaN   \n",
       "15587                   NaN                   NaN  ...                    NaN   \n",
       "\n",
       "       YouTubeGoogleDev  YouTubeLearnCode  YouTubeLevelUpTuts  YouTubeMIT  \\\n",
       "1728                NaN               NaN                 NaN         NaN   \n",
       "1755                NaN               1.0                 NaN         1.0   \n",
       "7989                NaN               NaN                 NaN         NaN   \n",
       "8126                1.0               NaN                 NaN         1.0   \n",
       "13398               NaN               NaN                 NaN         NaN   \n",
       "15587               1.0               1.0                 NaN         1.0   \n",
       "\n",
       "       YouTubeMozillaHacks  YouTubeOther YouTubeSimplilearn  \\\n",
       "1728                   NaN           NaN                NaN   \n",
       "1755                   NaN           NaN                NaN   \n",
       "7989                   NaN           NaN                NaN   \n",
       "8126                   NaN           NaN                NaN   \n",
       "13398                  NaN           NaN                NaN   \n",
       "15587                  NaN           NaN                NaN   \n",
       "\n",
       "       YouTubeTheNewBoston  MoneyPerMonth  \n",
       "1728                   NaN    5000.000000  \n",
       "1755                   NaN    3333.333333  \n",
       "7989                   NaN    5000.000000  \n",
       "8126                   1.0    5000.000000  \n",
       "13398                  NaN   10000.000000  \n",
       "15587                  NaN    4166.666667  \n",
       "\n",
       "[6 rows x 137 columns]"
      ]
     },
     "execution_count": 22,
     "metadata": {},
     "output_type": "execute_result"
    }
   ],
   "source": [
    "#Inspecting outliers in India\n",
    "indian_outliers = top_countries[(top_countries[\"CountryLive\"]== \"India\")& (top_countries[\"MoneyPerMonth\"]>2500)]\n",
    "indian_outliers"
   ]
  },
  {
   "cell_type": "markdown",
   "id": "7f48286e",
   "metadata": {},
   "source": [
    "It doesn't seem like these people have attended any bootcamps. It is difficult to decide if the data is accurate. The question in the survey read _\"Aside from university tuition about how much money haove you spent on learning to code so far (in US dollars)?_, so maybe the question wasn't too clear, and it was misinterpreted as including university tuition?\n",
    "\n",
    "It seems safer to remove these rows."
   ]
  },
  {
   "cell_type": "code",
   "execution_count": 23,
   "id": "1baa2f10",
   "metadata": {},
   "outputs": [],
   "source": [
    "top_countries = top_countries.drop(indian_outliers.index)"
   ]
  },
  {
   "cell_type": "markdown",
   "id": "082ead25",
   "metadata": {},
   "source": [
    "We can also see that there are still some outliers in the US, those that have over $6k as an spend. Let's look at them as well."
   ]
  },
  {
   "cell_type": "code",
   "execution_count": 24,
   "id": "9bce6179",
   "metadata": {},
   "outputs": [
    {
     "data": {
      "text/html": [
       "<div>\n",
       "<style scoped>\n",
       "    .dataframe tbody tr th:only-of-type {\n",
       "        vertical-align: middle;\n",
       "    }\n",
       "\n",
       "    .dataframe tbody tr th {\n",
       "        vertical-align: top;\n",
       "    }\n",
       "\n",
       "    .dataframe thead th {\n",
       "        text-align: right;\n",
       "    }\n",
       "</style>\n",
       "<table border=\"1\" class=\"dataframe\">\n",
       "  <thead>\n",
       "    <tr style=\"text-align: right;\">\n",
       "      <th></th>\n",
       "      <th>Age</th>\n",
       "      <th>AttendedBootcamp</th>\n",
       "      <th>BootcampFinish</th>\n",
       "      <th>BootcampLoanYesNo</th>\n",
       "      <th>BootcampName</th>\n",
       "      <th>BootcampRecommend</th>\n",
       "      <th>ChildrenNumber</th>\n",
       "      <th>CityPopulation</th>\n",
       "      <th>CodeEventConferences</th>\n",
       "      <th>CodeEventDjangoGirls</th>\n",
       "      <th>...</th>\n",
       "      <th>YouTubeFunFunFunction</th>\n",
       "      <th>YouTubeGoogleDev</th>\n",
       "      <th>YouTubeLearnCode</th>\n",
       "      <th>YouTubeLevelUpTuts</th>\n",
       "      <th>YouTubeMIT</th>\n",
       "      <th>YouTubeMozillaHacks</th>\n",
       "      <th>YouTubeOther</th>\n",
       "      <th>YouTubeSimplilearn</th>\n",
       "      <th>YouTubeTheNewBoston</th>\n",
       "      <th>MoneyPerMonth</th>\n",
       "    </tr>\n",
       "  </thead>\n",
       "  <tbody>\n",
       "    <tr>\n",
       "      <th>718</th>\n",
       "      <td>26.0</td>\n",
       "      <td>1.0</td>\n",
       "      <td>0.0</td>\n",
       "      <td>0.0</td>\n",
       "      <td>The Coding Boot Camp at UCLA Extension</td>\n",
       "      <td>1.0</td>\n",
       "      <td>NaN</td>\n",
       "      <td>more than 1 million</td>\n",
       "      <td>1.0</td>\n",
       "      <td>NaN</td>\n",
       "      <td>...</td>\n",
       "      <td>NaN</td>\n",
       "      <td>NaN</td>\n",
       "      <td>NaN</td>\n",
       "      <td>NaN</td>\n",
       "      <td>NaN</td>\n",
       "      <td>NaN</td>\n",
       "      <td>NaN</td>\n",
       "      <td>NaN</td>\n",
       "      <td>NaN</td>\n",
       "      <td>8000.000000</td>\n",
       "    </tr>\n",
       "    <tr>\n",
       "      <th>1222</th>\n",
       "      <td>32.0</td>\n",
       "      <td>1.0</td>\n",
       "      <td>0.0</td>\n",
       "      <td>0.0</td>\n",
       "      <td>The Iron Yard</td>\n",
       "      <td>1.0</td>\n",
       "      <td>NaN</td>\n",
       "      <td>between 100,000 and 1 million</td>\n",
       "      <td>NaN</td>\n",
       "      <td>NaN</td>\n",
       "      <td>...</td>\n",
       "      <td>NaN</td>\n",
       "      <td>NaN</td>\n",
       "      <td>1.0</td>\n",
       "      <td>NaN</td>\n",
       "      <td>NaN</td>\n",
       "      <td>NaN</td>\n",
       "      <td>NaN</td>\n",
       "      <td>NaN</td>\n",
       "      <td>NaN</td>\n",
       "      <td>6500.000000</td>\n",
       "    </tr>\n",
       "    <tr>\n",
       "      <th>3930</th>\n",
       "      <td>31.0</td>\n",
       "      <td>0.0</td>\n",
       "      <td>NaN</td>\n",
       "      <td>NaN</td>\n",
       "      <td>NaN</td>\n",
       "      <td>NaN</td>\n",
       "      <td>NaN</td>\n",
       "      <td>between 100,000 and 1 million</td>\n",
       "      <td>NaN</td>\n",
       "      <td>NaN</td>\n",
       "      <td>...</td>\n",
       "      <td>1.0</td>\n",
       "      <td>1.0</td>\n",
       "      <td>1.0</td>\n",
       "      <td>1.0</td>\n",
       "      <td>1.0</td>\n",
       "      <td>NaN</td>\n",
       "      <td>various conf presentations</td>\n",
       "      <td>NaN</td>\n",
       "      <td>NaN</td>\n",
       "      <td>10833.333333</td>\n",
       "    </tr>\n",
       "    <tr>\n",
       "      <th>6805</th>\n",
       "      <td>46.0</td>\n",
       "      <td>1.0</td>\n",
       "      <td>1.0</td>\n",
       "      <td>1.0</td>\n",
       "      <td>Sabio.la</td>\n",
       "      <td>0.0</td>\n",
       "      <td>NaN</td>\n",
       "      <td>between 100,000 and 1 million</td>\n",
       "      <td>NaN</td>\n",
       "      <td>NaN</td>\n",
       "      <td>...</td>\n",
       "      <td>NaN</td>\n",
       "      <td>NaN</td>\n",
       "      <td>NaN</td>\n",
       "      <td>NaN</td>\n",
       "      <td>NaN</td>\n",
       "      <td>NaN</td>\n",
       "      <td>NaN</td>\n",
       "      <td>NaN</td>\n",
       "      <td>NaN</td>\n",
       "      <td>15000.000000</td>\n",
       "    </tr>\n",
       "    <tr>\n",
       "      <th>7198</th>\n",
       "      <td>32.0</td>\n",
       "      <td>0.0</td>\n",
       "      <td>NaN</td>\n",
       "      <td>NaN</td>\n",
       "      <td>NaN</td>\n",
       "      <td>NaN</td>\n",
       "      <td>NaN</td>\n",
       "      <td>more than 1 million</td>\n",
       "      <td>1.0</td>\n",
       "      <td>NaN</td>\n",
       "      <td>...</td>\n",
       "      <td>NaN</td>\n",
       "      <td>1.0</td>\n",
       "      <td>1.0</td>\n",
       "      <td>1.0</td>\n",
       "      <td>NaN</td>\n",
       "      <td>NaN</td>\n",
       "      <td>NaN</td>\n",
       "      <td>NaN</td>\n",
       "      <td>NaN</td>\n",
       "      <td>14000.000000</td>\n",
       "    </tr>\n",
       "    <tr>\n",
       "      <th>7505</th>\n",
       "      <td>26.0</td>\n",
       "      <td>1.0</td>\n",
       "      <td>0.0</td>\n",
       "      <td>1.0</td>\n",
       "      <td>Codeup</td>\n",
       "      <td>0.0</td>\n",
       "      <td>NaN</td>\n",
       "      <td>more than 1 million</td>\n",
       "      <td>NaN</td>\n",
       "      <td>NaN</td>\n",
       "      <td>...</td>\n",
       "      <td>NaN</td>\n",
       "      <td>NaN</td>\n",
       "      <td>NaN</td>\n",
       "      <td>NaN</td>\n",
       "      <td>1.0</td>\n",
       "      <td>NaN</td>\n",
       "      <td>NaN</td>\n",
       "      <td>NaN</td>\n",
       "      <td>NaN</td>\n",
       "      <td>6666.666667</td>\n",
       "    </tr>\n",
       "    <tr>\n",
       "      <th>9778</th>\n",
       "      <td>33.0</td>\n",
       "      <td>1.0</td>\n",
       "      <td>0.0</td>\n",
       "      <td>1.0</td>\n",
       "      <td>Grand Circus</td>\n",
       "      <td>1.0</td>\n",
       "      <td>NaN</td>\n",
       "      <td>between 100,000 and 1 million</td>\n",
       "      <td>NaN</td>\n",
       "      <td>NaN</td>\n",
       "      <td>...</td>\n",
       "      <td>NaN</td>\n",
       "      <td>NaN</td>\n",
       "      <td>NaN</td>\n",
       "      <td>NaN</td>\n",
       "      <td>NaN</td>\n",
       "      <td>NaN</td>\n",
       "      <td>NaN</td>\n",
       "      <td>NaN</td>\n",
       "      <td>NaN</td>\n",
       "      <td>8000.000000</td>\n",
       "    </tr>\n",
       "    <tr>\n",
       "      <th>16650</th>\n",
       "      <td>29.0</td>\n",
       "      <td>0.0</td>\n",
       "      <td>NaN</td>\n",
       "      <td>NaN</td>\n",
       "      <td>NaN</td>\n",
       "      <td>NaN</td>\n",
       "      <td>2.0</td>\n",
       "      <td>more than 1 million</td>\n",
       "      <td>NaN</td>\n",
       "      <td>NaN</td>\n",
       "      <td>...</td>\n",
       "      <td>NaN</td>\n",
       "      <td>NaN</td>\n",
       "      <td>NaN</td>\n",
       "      <td>NaN</td>\n",
       "      <td>NaN</td>\n",
       "      <td>NaN</td>\n",
       "      <td>NaN</td>\n",
       "      <td>NaN</td>\n",
       "      <td>1.0</td>\n",
       "      <td>16666.666667</td>\n",
       "    </tr>\n",
       "    <tr>\n",
       "      <th>16997</th>\n",
       "      <td>27.0</td>\n",
       "      <td>0.0</td>\n",
       "      <td>NaN</td>\n",
       "      <td>NaN</td>\n",
       "      <td>NaN</td>\n",
       "      <td>NaN</td>\n",
       "      <td>1.0</td>\n",
       "      <td>more than 1 million</td>\n",
       "      <td>NaN</td>\n",
       "      <td>NaN</td>\n",
       "      <td>...</td>\n",
       "      <td>NaN</td>\n",
       "      <td>NaN</td>\n",
       "      <td>NaN</td>\n",
       "      <td>NaN</td>\n",
       "      <td>NaN</td>\n",
       "      <td>NaN</td>\n",
       "      <td>NaN</td>\n",
       "      <td>NaN</td>\n",
       "      <td>NaN</td>\n",
       "      <td>12500.000000</td>\n",
       "    </tr>\n",
       "    <tr>\n",
       "      <th>17231</th>\n",
       "      <td>50.0</td>\n",
       "      <td>0.0</td>\n",
       "      <td>NaN</td>\n",
       "      <td>NaN</td>\n",
       "      <td>NaN</td>\n",
       "      <td>NaN</td>\n",
       "      <td>2.0</td>\n",
       "      <td>less than 100,000</td>\n",
       "      <td>NaN</td>\n",
       "      <td>NaN</td>\n",
       "      <td>...</td>\n",
       "      <td>NaN</td>\n",
       "      <td>NaN</td>\n",
       "      <td>NaN</td>\n",
       "      <td>NaN</td>\n",
       "      <td>NaN</td>\n",
       "      <td>NaN</td>\n",
       "      <td>NaN</td>\n",
       "      <td>NaN</td>\n",
       "      <td>NaN</td>\n",
       "      <td>15000.000000</td>\n",
       "    </tr>\n",
       "  </tbody>\n",
       "</table>\n",
       "<p>10 rows × 137 columns</p>\n",
       "</div>"
      ],
      "text/plain": [
       "        Age  AttendedBootcamp  BootcampFinish  BootcampLoanYesNo  \\\n",
       "718    26.0               1.0             0.0                0.0   \n",
       "1222   32.0               1.0             0.0                0.0   \n",
       "3930   31.0               0.0             NaN                NaN   \n",
       "6805   46.0               1.0             1.0                1.0   \n",
       "7198   32.0               0.0             NaN                NaN   \n",
       "7505   26.0               1.0             0.0                1.0   \n",
       "9778   33.0               1.0             0.0                1.0   \n",
       "16650  29.0               0.0             NaN                NaN   \n",
       "16997  27.0               0.0             NaN                NaN   \n",
       "17231  50.0               0.0             NaN                NaN   \n",
       "\n",
       "                                 BootcampName  BootcampRecommend  \\\n",
       "718    The Coding Boot Camp at UCLA Extension                1.0   \n",
       "1222                            The Iron Yard                1.0   \n",
       "3930                                      NaN                NaN   \n",
       "6805                                 Sabio.la                0.0   \n",
       "7198                                      NaN                NaN   \n",
       "7505                                   Codeup                0.0   \n",
       "9778                             Grand Circus                1.0   \n",
       "16650                                     NaN                NaN   \n",
       "16997                                     NaN                NaN   \n",
       "17231                                     NaN                NaN   \n",
       "\n",
       "       ChildrenNumber                 CityPopulation  CodeEventConferences  \\\n",
       "718               NaN            more than 1 million                   1.0   \n",
       "1222              NaN  between 100,000 and 1 million                   NaN   \n",
       "3930              NaN  between 100,000 and 1 million                   NaN   \n",
       "6805              NaN  between 100,000 and 1 million                   NaN   \n",
       "7198              NaN            more than 1 million                   1.0   \n",
       "7505              NaN            more than 1 million                   NaN   \n",
       "9778              NaN  between 100,000 and 1 million                   NaN   \n",
       "16650             2.0            more than 1 million                   NaN   \n",
       "16997             1.0            more than 1 million                   NaN   \n",
       "17231             2.0              less than 100,000                   NaN   \n",
       "\n",
       "       CodeEventDjangoGirls  ...  YouTubeFunFunFunction  YouTubeGoogleDev  \\\n",
       "718                     NaN  ...                    NaN               NaN   \n",
       "1222                    NaN  ...                    NaN               NaN   \n",
       "3930                    NaN  ...                    1.0               1.0   \n",
       "6805                    NaN  ...                    NaN               NaN   \n",
       "7198                    NaN  ...                    NaN               1.0   \n",
       "7505                    NaN  ...                    NaN               NaN   \n",
       "9778                    NaN  ...                    NaN               NaN   \n",
       "16650                   NaN  ...                    NaN               NaN   \n",
       "16997                   NaN  ...                    NaN               NaN   \n",
       "17231                   NaN  ...                    NaN               NaN   \n",
       "\n",
       "       YouTubeLearnCode  YouTubeLevelUpTuts  YouTubeMIT  YouTubeMozillaHacks  \\\n",
       "718                 NaN                 NaN         NaN                  NaN   \n",
       "1222                1.0                 NaN         NaN                  NaN   \n",
       "3930                1.0                 1.0         1.0                  NaN   \n",
       "6805                NaN                 NaN         NaN                  NaN   \n",
       "7198                1.0                 1.0         NaN                  NaN   \n",
       "7505                NaN                 NaN         1.0                  NaN   \n",
       "9778                NaN                 NaN         NaN                  NaN   \n",
       "16650               NaN                 NaN         NaN                  NaN   \n",
       "16997               NaN                 NaN         NaN                  NaN   \n",
       "17231               NaN                 NaN         NaN                  NaN   \n",
       "\n",
       "                     YouTubeOther YouTubeSimplilearn  YouTubeTheNewBoston  \\\n",
       "718                           NaN                NaN                  NaN   \n",
       "1222                          NaN                NaN                  NaN   \n",
       "3930   various conf presentations                NaN                  NaN   \n",
       "6805                          NaN                NaN                  NaN   \n",
       "7198                          NaN                NaN                  NaN   \n",
       "7505                          NaN                NaN                  NaN   \n",
       "9778                          NaN                NaN                  NaN   \n",
       "16650                         NaN                NaN                  1.0   \n",
       "16997                         NaN                NaN                  NaN   \n",
       "17231                         NaN                NaN                  NaN   \n",
       "\n",
       "       MoneyPerMonth  \n",
       "718      8000.000000  \n",
       "1222     6500.000000  \n",
       "3930    10833.333333  \n",
       "6805    15000.000000  \n",
       "7198    14000.000000  \n",
       "7505     6666.666667  \n",
       "9778     8000.000000  \n",
       "16650   16666.666667  \n",
       "16997   12500.000000  \n",
       "17231   15000.000000  \n",
       "\n",
       "[10 rows x 137 columns]"
      ]
     },
     "execution_count": 24,
     "metadata": {},
     "output_type": "execute_result"
    }
   ],
   "source": [
    "us_outliers= top_countries[(top_countries[\"CountryLive\"]==\"United States of America\")&(top_countries[\"MoneyPerMonth\"]>=6000)]\n",
    "us_outliers"
   ]
  },
  {
   "cell_type": "markdown",
   "id": "045e6f93",
   "metadata": {},
   "source": [
    "Out of 10, 5 people attended bootcamps, this explains the large sums of money spent on learning. For the other five, we can't determine how they have been able to spend so much money in learning, so we will also remove them.\n",
    "\n",
    "It looks like there are also some of the bootcamp participants that have been learning how to code only for three months. That probably means that they paid a large sum of money at the beginning, and that it is also inflating the average spend per month. We will remove those as well."
   ]
  },
  {
   "cell_type": "code",
   "execution_count": 26,
   "id": "37c5797b",
   "metadata": {},
   "outputs": [],
   "source": [
    "#removing those that didn't attend bootcamps\n",
    "no_bootcamp = top_countries[(top_countries[\"CountryLive\"]==\"United States of America\")&\n",
    "                            (top_countries[\"MoneyPerMonth\"]>=6000)&\n",
    "                            (top_countries[\"AttendedBootcamp\"]==0)]\n",
    "\n",
    "top_countries = top_countries.drop(no_bootcamp.index)\n",
    "\n",
    "#removing those that had been programming for less than 3 months\n",
    "less_3_months = top_countries[(top_countries[\"CountryLive\"]==\"United States of America\")&\n",
    "                              (top_countries[\"MoneyPerMonth\"]>=6000)&\n",
    "                              (top_countries[\"MonthsProgramming\"]<=3)]\n",
    "\n",
    "top_countries = top_countries.drop(less_3_months.index)"
   ]
  },
  {
   "cell_type": "markdown",
   "id": "134690a4",
   "metadata": {},
   "source": [
    "The boxplot also shows an outlier from Canada. Let's see what we can find out."
   ]
  },
  {
   "cell_type": "code",
   "execution_count": 30,
   "id": "c87857ec",
   "metadata": {},
   "outputs": [
    {
     "data": {
      "text/html": [
       "<div>\n",
       "<style scoped>\n",
       "    .dataframe tbody tr th:only-of-type {\n",
       "        vertical-align: middle;\n",
       "    }\n",
       "\n",
       "    .dataframe tbody tr th {\n",
       "        vertical-align: top;\n",
       "    }\n",
       "\n",
       "    .dataframe thead th {\n",
       "        text-align: right;\n",
       "    }\n",
       "</style>\n",
       "<table border=\"1\" class=\"dataframe\">\n",
       "  <thead>\n",
       "    <tr style=\"text-align: right;\">\n",
       "      <th></th>\n",
       "      <th>Age</th>\n",
       "      <th>AttendedBootcamp</th>\n",
       "      <th>BootcampFinish</th>\n",
       "      <th>BootcampLoanYesNo</th>\n",
       "      <th>BootcampName</th>\n",
       "      <th>BootcampRecommend</th>\n",
       "      <th>ChildrenNumber</th>\n",
       "      <th>CityPopulation</th>\n",
       "      <th>CodeEventConferences</th>\n",
       "      <th>CodeEventDjangoGirls</th>\n",
       "      <th>...</th>\n",
       "      <th>YouTubeFunFunFunction</th>\n",
       "      <th>YouTubeGoogleDev</th>\n",
       "      <th>YouTubeLearnCode</th>\n",
       "      <th>YouTubeLevelUpTuts</th>\n",
       "      <th>YouTubeMIT</th>\n",
       "      <th>YouTubeMozillaHacks</th>\n",
       "      <th>YouTubeOther</th>\n",
       "      <th>YouTubeSimplilearn</th>\n",
       "      <th>YouTubeTheNewBoston</th>\n",
       "      <th>MoneyPerMonth</th>\n",
       "    </tr>\n",
       "  </thead>\n",
       "  <tbody>\n",
       "    <tr>\n",
       "      <th>13659</th>\n",
       "      <td>24.0</td>\n",
       "      <td>1.0</td>\n",
       "      <td>0.0</td>\n",
       "      <td>0.0</td>\n",
       "      <td>Bloc.io</td>\n",
       "      <td>1.0</td>\n",
       "      <td>NaN</td>\n",
       "      <td>more than 1 million</td>\n",
       "      <td>1.0</td>\n",
       "      <td>NaN</td>\n",
       "      <td>...</td>\n",
       "      <td>NaN</td>\n",
       "      <td>NaN</td>\n",
       "      <td>NaN</td>\n",
       "      <td>NaN</td>\n",
       "      <td>1.0</td>\n",
       "      <td>NaN</td>\n",
       "      <td>NaN</td>\n",
       "      <td>NaN</td>\n",
       "      <td>NaN</td>\n",
       "      <td>5000.0</td>\n",
       "    </tr>\n",
       "  </tbody>\n",
       "</table>\n",
       "<p>1 rows × 137 columns</p>\n",
       "</div>"
      ],
      "text/plain": [
       "        Age  AttendedBootcamp  BootcampFinish  BootcampLoanYesNo BootcampName  \\\n",
       "13659  24.0               1.0             0.0                0.0      Bloc.io   \n",
       "\n",
       "       BootcampRecommend  ChildrenNumber       CityPopulation  \\\n",
       "13659                1.0             NaN  more than 1 million   \n",
       "\n",
       "       CodeEventConferences  CodeEventDjangoGirls  ...  YouTubeFunFunFunction  \\\n",
       "13659                   1.0                   NaN  ...                    NaN   \n",
       "\n",
       "       YouTubeGoogleDev  YouTubeLearnCode  YouTubeLevelUpTuts  YouTubeMIT  \\\n",
       "13659               NaN               NaN                 NaN         1.0   \n",
       "\n",
       "       YouTubeMozillaHacks  YouTubeOther YouTubeSimplilearn  \\\n",
       "13659                  NaN           NaN                NaN   \n",
       "\n",
       "       YouTubeTheNewBoston  MoneyPerMonth  \n",
       "13659                  NaN         5000.0  \n",
       "\n",
       "[1 rows x 137 columns]"
      ]
     },
     "execution_count": 30,
     "metadata": {},
     "output_type": "execute_result"
    }
   ],
   "source": [
    "outlier_ca = top_countries[(top_countries[\"CountryLive\"]==\"Canada\")&(top_countries[\"MoneyPerMonth\"]>4500)]\n",
    "outlier_ca"
   ]
  },
  {
   "cell_type": "markdown",
   "id": "0da3b5c0",
   "metadata": {},
   "source": [
    "This is the same thing that we saw with some of the US respondents. This person is attending a bootcamp but has only been stuying for two months, which means that they have paid a large sum upfront, but it is probably not reflective of the amount of money they spend per month. Let's also remove them."
   ]
  },
  {
   "cell_type": "code",
   "execution_count": 31,
   "id": "d47b32e6",
   "metadata": {},
   "outputs": [],
   "source": [
    "top_countries = top_countries.drop(outlier_ca.index)"
   ]
  },
  {
   "cell_type": "code",
   "execution_count": 33,
   "id": "7a18ee46",
   "metadata": {},
   "outputs": [
    {
     "name": "stdout",
     "output_type": "stream",
     "text": [
      "CountryLive\n",
      "Canada                      105.057931\n",
      "India                        64.958227\n",
      "United Kingdom               49.117435\n",
      "United States of America    153.605994\n",
      "Name: MoneyPerMonth, dtype: float64\n"
     ]
    }
   ],
   "source": [
    "#Let's now calculate the means again\n",
    "top_countries_mean = top_countries.groupby(\"CountryLive\").mean(numeric_only = True)[\"MoneyPerMonth\"]\n",
    "print(top_countries_mean)"
   ]
  },
  {
   "cell_type": "code",
   "execution_count": 35,
   "id": "36cd6512",
   "metadata": {},
   "outputs": [
    {
     "data": {
      "image/png": "[encoded data removed]",
      "text/plain": [
       "<Figure size 640x480 with 1 Axes>"
      ]
     },
     "metadata": {},
     "output_type": "display_data"
    }
   ],
   "source": [
    "#Visualise the distributions\n",
    "\n",
    "sns.boxplot(y=\"MoneyPerMonth\", x=\"CountryLive\", data=top_countries)\n",
    "plt.title(\"Money Spent per Month per Country in USD\")\n",
    "plt.xlabel(\"Country\")\n",
    "plt.ylabel(\"Money Spent per Month\")\n",
    "plt.xticks(range(4), [\"US\", \"UK\", \"India\", \"Canada\"])\n",
    "plt.show()"
   ]
  },
  {
   "cell_type": "markdown",
   "id": "3d70fac6",
   "metadata": {},
   "source": [
    "## Choosing the Two Best Markets\n",
    "\n",
    "The US is an obvious winner. There seems to be a lot of new coders there that are willing to pay a decent amount of money at around $153/month.\n",
    "\n",
    "Since the subscriptions that the company sell have a price of $59/month Canada seems to be the second best choice with them willing to spend $105/month, compared to India at $64 and the UK at $49.\n",
    "\n",
    "The UK does not seem to be a good place to advertice, but would India make sense instead of Canada since we have almost twice as many potential customers in India than in Canada?"
   ]
  },
  {
   "cell_type": "code",
   "execution_count": 37,
   "id": "6379bb89",
   "metadata": {},
   "outputs": [
    {
     "data": {
      "text/plain": [
       "United States of America    74.970060\n",
       "India                       11.586826\n",
       "United Kingdom               7.395210\n",
       "Canada                       6.047904\n",
       "Name: CountryLive, dtype: float64"
      ]
     },
     "execution_count": 37,
     "metadata": {},
     "output_type": "execute_result"
    }
   ],
   "source": [
    "top_countries[\"CountryLive\"].value_counts(normalize=True)*100"
   ]
  },
  {
   "cell_type": "markdown",
   "id": "de16dd74",
   "metadata": {},
   "source": [
    "In this case India could be a good second choice over Canada even if the money per month users in India are willing to spend is lower than that of those in Canada mainly because of absolute numbers. \n",
    "\n",
    "At this point it looks like there are several options: \n",
    "\n",
    "1. Advertise in the US, India, and Canada by splitting the budget proportionatelly:\n",
    "- 75% for the US, 15% for India and 10% for Canada\n",
    "- 60% for the US, 25% for India and 15% for Cananda\n",
    "\n",
    "2. Advertise only in the US and India, or the US and Canada.\n",
    "- 75% for the US and 25% for India\n",
    "- 70% for the US and 30% for Canada\n",
    "\n",
    "We will let the marketing team decide the approach they want to follow based on their knowledge from the different markets. "
   ]
  },
  {
   "cell_type": "markdown",
   "id": "729ae907",
   "metadata": {},
   "source": [
    "## Conclusion\n",
    "\n",
    "From the data that we have analysed we can see that the US is a very good candidate, and that there could be two more interesting markets to consider, India and Canada. The final decision will be on the Marketing team hands."
   ]
  }
 ],
 "metadata": {
  "kernelspec": {
   "display_name": "Python 3 (ipykernel)",
   "language": "python",
   "name": "python3"
  },
  "language_info": {
   "codemirror_mode": {
    "name": "ipython",
    "version": 3
   },
   "file_extension": ".py",
   "mimetype": "text/x-python",
   "name": "python",
   "nbconvert_exporter": "python",
   "pygments_lexer": "ipython3",
   "version": "3.9.13"
  }
 },
 "nbformat": 4,
 "nbformat_minor": 5
}
